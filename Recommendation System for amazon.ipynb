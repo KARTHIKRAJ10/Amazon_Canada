{
 "cells": [
  {
   "cell_type": "code",
   "execution_count": 123,
   "id": "35003327-98f9-47a4-a5dd-ba836a56a3df",
   "metadata": {},
   "outputs": [],
   "source": [
    "import pandas as pd"
   ]
  },
  {
   "cell_type": "code",
   "execution_count": 125,
   "id": "0b01c4e3-7b1b-4146-9832-a0261a396e63",
   "metadata": {},
   "outputs": [],
   "source": [
    "data=pd.read_csv(\"amz_ca.csv\")"
   ]
  },
  {
   "cell_type": "code",
   "execution_count": 126,
   "id": "2cf105ba-c670-4537-939d-75f4f40a3f2b",
   "metadata": {},
   "outputs": [
    {
     "name": "stdout",
     "output_type": "stream",
     "text": [
      "<class 'pandas.core.frame.DataFrame'>\n",
      "RangeIndex: 2165926 entries, 0 to 2165925\n",
      "Data columns (total 11 columns):\n",
      " #   Column             Dtype  \n",
      "---  ------             -----  \n",
      " 0   asin               object \n",
      " 1   title              object \n",
      " 2   imgUrl             object \n",
      " 3   productURL         object \n",
      " 4   stars              float64\n",
      " 5   reviews            int64  \n",
      " 6   price              float64\n",
      " 7   listPrice          float64\n",
      " 8   categoryName       object \n",
      " 9   isBestSeller       bool   \n",
      " 10  boughtInLastMonth  int64  \n",
      "dtypes: bool(1), float64(3), int64(2), object(5)\n",
      "memory usage: 167.3+ MB\n"
     ]
    }
   ],
   "source": [
    "data.info()"
   ]
  },
  {
   "cell_type": "code",
   "execution_count": 7,
   "id": "dba0ce37-c999-4267-95f1-536cddfb9b7d",
   "metadata": {},
   "outputs": [
    {
     "data": {
      "text/plain": [
       "0          Green Leaf WW3D Wonder Extension Cord Winder, ...\n",
       "1          8pcs Toilet Seat Bumpers Universal Toilet Repl...\n",
       "2          YaeCCC 19 Pcs Hole Saw Kit 3/4''(19mm)- 6''(15...\n",
       "3          LLPT Butyl Putty Tape White 1 Inch x 33Ft Tigh...\n",
       "4          Lightbeam 16\" Long Stem Deep Fry Thermometer w...\n",
       "                                 ...                        \n",
       "2165921    Climbing Rope Net for Kids, Net Climbing Cargo...\n",
       "2165922    YIJU Gymnastic Rings Workout Set with Adjustab...\n",
       "2165923    Fancyes 2X Heavy Duty Swing Hangers Hardware S...\n",
       "2165924    SM SunniMix 2Pcs Stainless Steel Swing Hangers...\n",
       "2165925    YIJU 2Pcs Swing Hangers Sandbag Hook Hardware ...\n",
       "Name: title, Length: 2165926, dtype: object"
      ]
     },
     "execution_count": 7,
     "metadata": {},
     "output_type": "execute_result"
    }
   ],
   "source": [
    "data['title']"
   ]
  },
  {
   "cell_type": "code",
   "execution_count": 9,
   "id": "70232f33-16c8-406e-904b-ca7fff012f58",
   "metadata": {},
   "outputs": [
    {
     "data": {
      "text/html": [
       "<div>\n",
       "<style scoped>\n",
       "    .dataframe tbody tr th:only-of-type {\n",
       "        vertical-align: middle;\n",
       "    }\n",
       "\n",
       "    .dataframe tbody tr th {\n",
       "        vertical-align: top;\n",
       "    }\n",
       "\n",
       "    .dataframe thead th {\n",
       "        text-align: right;\n",
       "    }\n",
       "</style>\n",
       "<table border=\"1\" class=\"dataframe\">\n",
       "  <thead>\n",
       "    <tr style=\"text-align: right;\">\n",
       "      <th></th>\n",
       "      <th>asin</th>\n",
       "      <th>title</th>\n",
       "      <th>imgUrl</th>\n",
       "      <th>productURL</th>\n",
       "      <th>stars</th>\n",
       "      <th>reviews</th>\n",
       "      <th>price</th>\n",
       "      <th>listPrice</th>\n",
       "      <th>categoryName</th>\n",
       "      <th>isBestSeller</th>\n",
       "      <th>boughtInLastMonth</th>\n",
       "    </tr>\n",
       "  </thead>\n",
       "  <tbody>\n",
       "    <tr>\n",
       "      <th>0</th>\n",
       "      <td>B07CV4L6HX</td>\n",
       "      <td>Green Leaf WW3D Wonder Extension Cord Winder, ...</td>\n",
       "      <td>https://m.media-amazon.com/images/I/81cRe0AVC4...</td>\n",
       "      <td>https://www.amazon.ca/dp/B07CV4L6HX</td>\n",
       "      <td>4.4</td>\n",
       "      <td>2876</td>\n",
       "      <td>47.69</td>\n",
       "      <td>0.00</td>\n",
       "      <td>Industrial  Scientific</td>\n",
       "      <td>False</td>\n",
       "      <td>0</td>\n",
       "    </tr>\n",
       "    <tr>\n",
       "      <th>1</th>\n",
       "      <td>B09N1HGY74</td>\n",
       "      <td>8pcs Toilet Seat Bumpers Universal Toilet Repl...</td>\n",
       "      <td>https://m.media-amazon.com/images/I/512CpB-EP5...</td>\n",
       "      <td>https://www.amazon.ca/dp/B09N1HGY74</td>\n",
       "      <td>3.8</td>\n",
       "      <td>55</td>\n",
       "      <td>10.99</td>\n",
       "      <td>0.00</td>\n",
       "      <td>Industrial  Scientific</td>\n",
       "      <td>False</td>\n",
       "      <td>100</td>\n",
       "    </tr>\n",
       "    <tr>\n",
       "      <th>2</th>\n",
       "      <td>B087P7538J</td>\n",
       "      <td>YaeCCC 19 Pcs Hole Saw Kit 3/4''(19mm)- 6''(15...</td>\n",
       "      <td>https://m.media-amazon.com/images/I/71P+qLFDFc...</td>\n",
       "      <td>https://www.amazon.ca/dp/B087P7538J</td>\n",
       "      <td>4.0</td>\n",
       "      <td>126</td>\n",
       "      <td>25.99</td>\n",
       "      <td>27.99</td>\n",
       "      <td>Industrial  Scientific</td>\n",
       "      <td>False</td>\n",
       "      <td>50</td>\n",
       "    </tr>\n",
       "    <tr>\n",
       "      <th>3</th>\n",
       "      <td>B0822FF7YQ</td>\n",
       "      <td>LLPT Butyl Putty Tape White 1 Inch x 33Ft Tigh...</td>\n",
       "      <td>https://m.media-amazon.com/images/I/61wfWLZRn-...</td>\n",
       "      <td>https://www.amazon.ca/dp/B0822FF7YQ</td>\n",
       "      <td>4.5</td>\n",
       "      <td>1936</td>\n",
       "      <td>21.99</td>\n",
       "      <td>30.99</td>\n",
       "      <td>Industrial  Scientific</td>\n",
       "      <td>False</td>\n",
       "      <td>100</td>\n",
       "    </tr>\n",
       "    <tr>\n",
       "      <th>4</th>\n",
       "      <td>B08NTR8NN4</td>\n",
       "      <td>Lightbeam 16\" Long Stem Deep Fry Thermometer w...</td>\n",
       "      <td>https://m.media-amazon.com/images/I/61qJG-y1He...</td>\n",
       "      <td>https://www.amazon.ca/dp/B08NTR8NN4</td>\n",
       "      <td>4.2</td>\n",
       "      <td>46</td>\n",
       "      <td>18.99</td>\n",
       "      <td>0.00</td>\n",
       "      <td>Industrial  Scientific</td>\n",
       "      <td>False</td>\n",
       "      <td>100</td>\n",
       "    </tr>\n",
       "  </tbody>\n",
       "</table>\n",
       "</div>"
      ],
      "text/plain": [
       "         asin                                              title  \\\n",
       "0  B07CV4L6HX  Green Leaf WW3D Wonder Extension Cord Winder, ...   \n",
       "1  B09N1HGY74  8pcs Toilet Seat Bumpers Universal Toilet Repl...   \n",
       "2  B087P7538J  YaeCCC 19 Pcs Hole Saw Kit 3/4''(19mm)- 6''(15...   \n",
       "3  B0822FF7YQ  LLPT Butyl Putty Tape White 1 Inch x 33Ft Tigh...   \n",
       "4  B08NTR8NN4  Lightbeam 16\" Long Stem Deep Fry Thermometer w...   \n",
       "\n",
       "                                              imgUrl  \\\n",
       "0  https://m.media-amazon.com/images/I/81cRe0AVC4...   \n",
       "1  https://m.media-amazon.com/images/I/512CpB-EP5...   \n",
       "2  https://m.media-amazon.com/images/I/71P+qLFDFc...   \n",
       "3  https://m.media-amazon.com/images/I/61wfWLZRn-...   \n",
       "4  https://m.media-amazon.com/images/I/61qJG-y1He...   \n",
       "\n",
       "                            productURL  stars  reviews  price  listPrice  \\\n",
       "0  https://www.amazon.ca/dp/B07CV4L6HX    4.4     2876  47.69       0.00   \n",
       "1  https://www.amazon.ca/dp/B09N1HGY74    3.8       55  10.99       0.00   \n",
       "2  https://www.amazon.ca/dp/B087P7538J    4.0      126  25.99      27.99   \n",
       "3  https://www.amazon.ca/dp/B0822FF7YQ    4.5     1936  21.99      30.99   \n",
       "4  https://www.amazon.ca/dp/B08NTR8NN4    4.2       46  18.99       0.00   \n",
       "\n",
       "             categoryName  isBestSeller  boughtInLastMonth  \n",
       "0  Industrial  Scientific         False                  0  \n",
       "1  Industrial  Scientific         False                100  \n",
       "2  Industrial  Scientific         False                 50  \n",
       "3  Industrial  Scientific         False                100  \n",
       "4  Industrial  Scientific         False                100  "
      ]
     },
     "execution_count": 9,
     "metadata": {},
     "output_type": "execute_result"
    }
   ],
   "source": [
    "data.head()"
   ]
  },
  {
   "cell_type": "code",
   "execution_count": 11,
   "id": "32579e07-328f-4ad3-ab56-dc651d3f3408",
   "metadata": {},
   "outputs": [
    {
     "data": {
      "text/plain": [
       "array(['Industrial  Scientific', 'Motorcycle Accessories  Parts',\n",
       "       'Automotive Tires  Wheels', 'Dishwashing Supplies',\n",
       "       'Arts  Crafts Supplies', \"Men's Shoes\", \"Women's Shoes\",\n",
       "       'Fresh Flowers  Indoor Plants', 'Pogo Sticks  Hopping Toys',\n",
       "       'Swimming Pool  Outdoor Water Toys',\n",
       "       'Material Transport Equipment', 'Flashlights',\n",
       "       'Nails, Screws  Fasteners', 'Audio/Video Receivers  Amplifiers',\n",
       "       'Digital Media Devices', 'Data Storage', 'Perfume  Cologne',\n",
       "       'Play Sets  Playground Equipment', 'Sandboxes  Beach Toys',\n",
       "       'Building Supplies', 'Ladders', 'Scaffolding Equipment',\n",
       "       'Hardware', 'Door Hardware  Locks', 'Furniture Hardware',\n",
       "       'Gate Hardware', 'Mailboxes  Accessories', 'Locks  Hasps',\n",
       "       'Televisions  Video', 'TV Accessories',\n",
       "       'Satellite Television Equipment', 'Televisions', 'Hand Tools',\n",
       "       'Beauty', 'Bath  Body', 'Salon  Spa Equipment',\n",
       "       'Shaving  Hair Removal Products', 'Skin Care Products',\n",
       "       'Tattooing Supplies', 'Beauty Tools  Accessories',\n",
       "       'Computer Components', 'Baby  Toddler Toys',\n",
       "       'Kites  Wind Spinners', 'Job Site Lighting', 'Bathroom Hardware',\n",
       "       'Hardware Hooks', 'Window Hardware', 'Home Theatre Systems',\n",
       "       'Electronics', 'Makeup', 'Cutting Tools', \"Women's Accessories\",\n",
       "       'Outdoor Décor', 'Kitchen Utensils  Gadgets', 'Tableware',\n",
       "       'Household Cleaning Tools', 'Household Cleaning',\n",
       "       'Laundry Supplies', 'Bedding', 'Automotive Tools  Equipment',\n",
       "       'Building  Construction Toys', 'Handmade Jewellery',\n",
       "       'RV Parts  Accessories', 'Girls', 'Luggage  Travel Gear',\n",
       "       'Handmade Home Décor', 'Office Products',\n",
       "       'International Food Market',\n",
       "       'Occupational Health  Safety Products', 'Pet Supplies',\n",
       "       'Home Storage  Organization', 'Printers', 'Game Hardware',\n",
       "       'Patio, Lawn  Garden', 'Coffee, Tea  Espresso',\n",
       "       'Kitchen Storage  Organization',\n",
       "       'Water Coolers, Filters  Cartridges', 'Boys', 'Cycling Equipment',\n",
       "       'Awards', 'Snow  Ice Sports', 'Janitorial  Sanitation Supplies',\n",
       "       'Industrial Materials', 'Automotive Care',\n",
       "       'Outdoor Power  Lawn Equipment', 'Outdoor Storage  Housing',\n",
       "       'Pools, Hot Tubs  Supplies', 'Home  Kitchen',\n",
       "       'Irons, Steamers  Accessories', 'Baby  Child Care Products',\n",
       "       'Vision Care Products', 'Golf Equipment',\n",
       "       'Laptop  Netbook Computer Accessories', 'Printer Accessories',\n",
       "       'Car Electronics  Accessories', 'Weather Thermometers',\n",
       "       'Handmade Toys  Games', 'Handmade Kitchen  Dining',\n",
       "       \"Men's Jewelry\", \"Women's Handbags\", 'Outdoor Cooking',\n",
       "       'Automotive', 'Oils  Fluids',\n",
       "       'Handmade Clothing, Shoes  Accessories', 'Dolls  Accessories',\n",
       "       'Sports  Outdoors', \"Men's Watches\", \"Women's Watches\",\n",
       "       'Farming  Urban Agriculture', 'Outdoor Lighting Products', 'Men',\n",
       "       'Shoe, Jewelry  Watch Accessories', 'Sporting Apparel',\n",
       "       'Martial Arts  Combat Sports', 'Breakfast Cereal',\n",
       "       '3D Printing  Scanning', 'Food Service Equipment  Supplies',\n",
       "       'Cigarette Lighters', 'Paper  Plastic Household Supplies',\n",
       "       'Bath Products', 'Sex  Sensuality Products',\n",
       "       'Oral Hygiene Products', 'Hair Care',\n",
       "       'Indoor Insect  Pest Control', 'Sewing, Craft  Hobby',\n",
       "       'Home Décor', 'Household Supplies',\n",
       "       'Nail Polish  Nail Decoration Products', 'Home  Portable Audio',\n",
       "       'Dog Supplies', 'Baby', 'Clothing, Shoes  Jewellery',\n",
       "       \"Kids' Play Tents  Tunnels\", \"Kids' Slumber Bags\",\n",
       "       'Toy Sports Equipment', 'Hardware Adhesives  Sealers',\n",
       "       'Garage Door Hardware', 'Shelf Brackets  Supports',\n",
       "       'Blu-ray Players  Recorders', 'DVD Players  Recorders',\n",
       "       'Luxury Beauty', 'Automotive Replacement Parts', 'Women',\n",
       "       'Power Transmission Products', 'Sport Specific Clothing',\n",
       "       'Outdoor Gear', 'Hunting  Fishing',\n",
       "       'Outdoor Recreation Apparel  Equipment',\n",
       "       'Leisure Sports  Game Room', 'Team Sports', 'Grocery',\n",
       "       'Test, Measure  Inspect', 'Commerical Door Products', 'Filtration',\n",
       "       'Industrial Hardware', 'Material Handling', 'Power  Hand Tools',\n",
       "       'Tools  Home Improvement', 'Automotive Exterior Accessories',\n",
       "       'Automotive Interior Accessories',\n",
       "       'Handmade Beauty  Grooming Products', 'Toys  Games',\n",
       "       'Stuffed  Plush Animals', 'Collectible Toys',\n",
       "       'Bikes, Scooters  Ride-Ons', 'Action Figures, Maquettes  Busts',\n",
       "       \"Men's Accessories\", 'Bakeware', \"Women's Jewelry\",\n",
       "       'Home Audio Speakers', 'Exercise  Fitness Equipment',\n",
       "       'Handmade Baby Products', 'Games  Accessories',\n",
       "       'Power Tools  Hand Tools', 'Furniture', 'Handmade Artwork',\n",
       "       'Handmade Bedding', 'Networking Products', 'Computer Monitors',\n",
       "       'Camping  Hiking Equipment', 'Smart Home', 'Handmade in Canada',\n",
       "       'Child Safety Car Seats', 'Lab  Scientific Products',\n",
       "       'Baby Strollers', 'Electrical Equipment',\n",
       "       'Patio Furniture  Accessories', 'Kitchen Cookware',\n",
       "       'Kitchen  Dining', 'Diet  Nutrition Products',\n",
       "       \"Women's Health  Family Planning\",\n",
       "       'Computer Audio  Video Accessories', 'USB Hubs',\n",
       "       'Outdoor Play Toys', 'Uniforms, Work  Safety',\n",
       "       'Boating  Watersports', 'Electronics  Gadgets',\n",
       "       'Abrasive  Finishing Products', 'Hydraulics, Pneumatics  Plumbing',\n",
       "       'Professional Medical Supplies', 'Novelty  Special Use Clothing',\n",
       "       'Sports Fan Shop', 'Action Sports', 'Fasteners',\n",
       "       'Science Education Supplies', 'Pest Control',\n",
       "       'Kitchen Knives  Cutlery Accessories',\n",
       "       'Heating Cooling  Air Quality', 'Large Appliances',\n",
       "       'Health Care Products', 'Memory Cards',\n",
       "       'Computer Monitor Accessories', 'Toy Gardening Equipment',\n",
       "       'Garden Structures  Germination Equipment',\n",
       "       'Outdoor Heating  Cooling', 'Barware', 'Small Appliances',\n",
       "       'Home Textiles', 'Vacuums  Floor Care', 'Wellness',\n",
       "       'Computer Accessories', 'USB Gadgets', 'Tablet Accessories',\n",
       "       \"Children's Outdoor Inflatable Bouncers  Bouncy Castles\",\n",
       "       'Paint, Body  Trim Products',\n",
       "       'Handmade Stationery  Party Supplies', 'Toy Vehicles',\n",
       "       \"Men's Clothing\", \"Women's Clothing\", 'Backyard Birding',\n",
       "       'Building Materials', 'Cabinet Hardware',\n",
       "       'House Numbers, Plaques  Signs', 'Tarps  Tie-Downs',\n",
       "       'Television Projectors', 'Cat Supplies',\n",
       "       'Musical Instruments, Stage  Studio',\n",
       "       'Nursery Furniture, Bedding  Décor', 'Kitchen  Bath Fixtures',\n",
       "       'Laptop Computers', 'Camera  Photo', 'STEM', 'Vehicle Electronics',\n",
       "       'Desktop Computers', 'Hobbies', 'Household Batteries',\n",
       "       'Plants Seeds  Bulbs', 'Home Brewing  Wine Making',\n",
       "       'Air Freshener Supplies', 'Artwork', 'Handmade Furniture',\n",
       "       'Health  Personal Care', 'Medical Supplies  Equipment',\n",
       "       'Stationery  Party Supplies', 'Vitamins, Minerals  Supplements',\n",
       "       'Computer Cable Adapters', 'Computer Security Cables',\n",
       "       'Computer Hard Drive Accessories',\n",
       "       'Keyboards, Mice  Input Devices',\n",
       "       'Computer Uninterrupted Power Supply', 'Memory Card Accessories',\n",
       "       'Cables  Accessories', \"Kids' Ball Pits  Accessories\",\n",
       "       'Beanbag  Foot Bags', 'Toy Foam Blasters  Guns',\n",
       "       'Bubble Blowing Products'], dtype=object)"
      ]
     },
     "execution_count": 11,
     "metadata": {},
     "output_type": "execute_result"
    }
   ],
   "source": [
    "data['categoryName'].unique()"
   ]
  },
  {
   "cell_type": "code",
   "execution_count": 13,
   "id": "6da43b81-58bf-413d-b4d7-99db66cde663",
   "metadata": {},
   "outputs": [
    {
     "data": {
      "text/plain": [
       "categoryName\n",
       "3D Printing  Scanning                9469\n",
       "Abrasive  Finishing Products         8644\n",
       "Action Figures, Maquettes  Busts     9780\n",
       "Action Sports                         991\n",
       "Air Freshener Supplies               4315\n",
       "                                    ...  \n",
       "Women's Handbags                    16146\n",
       "Women's Health  Family Planning      8535\n",
       "Women's Jewelry                     12848\n",
       "Women's Shoes                       17948\n",
       "Women's Watches                     18437\n",
       "Length: 266, dtype: int64"
      ]
     },
     "execution_count": 13,
     "metadata": {},
     "output_type": "execute_result"
    }
   ],
   "source": [
    "data.groupby('categoryName').size()"
   ]
  },
  {
   "cell_type": "code",
   "execution_count": 15,
   "id": "3f5cbf33-f668-43bf-8c0a-e011fa44687a",
   "metadata": {},
   "outputs": [
    {
     "data": {
      "text/plain": [
       "isBestSeller\n",
       "False    2158272\n",
       "True        7654\n",
       "dtype: int64"
      ]
     },
     "execution_count": 15,
     "metadata": {},
     "output_type": "execute_result"
    }
   ],
   "source": [
    "data['isBestSeller'].unique()\n",
    "data.groupby('isBestSeller').size()"
   ]
  },
  {
   "cell_type": "code",
   "execution_count": 81,
   "id": "deed6e8e-a0f4-45e5-ab2f-ed418a8db8da",
   "metadata": {},
   "outputs": [],
   "source": [
    "sampled_df = data.sample(n=70000, random_state=42)  # random_state ensures reproducibility\n",
    "\n",
    "# Save to a new CSV file\n",
    "sampled_df.to_csv('sampled_70000_rows.csv', index=False)"
   ]
  },
  {
   "cell_type": "code",
   "execution_count": 21,
   "id": "95ed767d-39e5-46ea-b081-8d891c59c237",
   "metadata": {},
   "outputs": [
    {
     "name": "stdout",
     "output_type": "stream",
     "text": [
      "Requirement already satisfied: tensorflow in c:\\users\\karthikraj\\anaconda3\\lib\\site-packages (2.18.0)\n",
      "Requirement already satisfied: tensorflow-intel==2.18.0 in c:\\users\\karthikraj\\anaconda3\\lib\\site-packages (from tensorflow) (2.18.0)\n",
      "Requirement already satisfied: absl-py>=1.0.0 in c:\\users\\karthikraj\\anaconda3\\lib\\site-packages (from tensorflow-intel==2.18.0->tensorflow) (2.1.0)\n",
      "Requirement already satisfied: astunparse>=1.6.0 in c:\\users\\karthikraj\\anaconda3\\lib\\site-packages (from tensorflow-intel==2.18.0->tensorflow) (1.6.3)\n",
      "Requirement already satisfied: flatbuffers>=24.3.25 in c:\\users\\karthikraj\\anaconda3\\lib\\site-packages (from tensorflow-intel==2.18.0->tensorflow) (24.12.23)\n",
      "Requirement already satisfied: gast!=0.5.0,!=0.5.1,!=0.5.2,>=0.2.1 in c:\\users\\karthikraj\\anaconda3\\lib\\site-packages (from tensorflow-intel==2.18.0->tensorflow) (0.6.0)\n",
      "Requirement already satisfied: google-pasta>=0.1.1 in c:\\users\\karthikraj\\anaconda3\\lib\\site-packages (from tensorflow-intel==2.18.0->tensorflow) (0.2.0)\n",
      "Requirement already satisfied: libclang>=13.0.0 in c:\\users\\karthikraj\\anaconda3\\lib\\site-packages (from tensorflow-intel==2.18.0->tensorflow) (18.1.1)\n",
      "Requirement already satisfied: opt-einsum>=2.3.2 in c:\\users\\karthikraj\\anaconda3\\lib\\site-packages (from tensorflow-intel==2.18.0->tensorflow) (3.4.0)\n",
      "Requirement already satisfied: packaging in c:\\users\\karthikraj\\anaconda3\\lib\\site-packages (from tensorflow-intel==2.18.0->tensorflow) (24.1)\n",
      "Requirement already satisfied: protobuf!=4.21.0,!=4.21.1,!=4.21.2,!=4.21.3,!=4.21.4,!=4.21.5,<6.0.0dev,>=3.20.3 in c:\\users\\karthikraj\\anaconda3\\lib\\site-packages (from tensorflow-intel==2.18.0->tensorflow) (4.25.3)\n",
      "Requirement already satisfied: requests<3,>=2.21.0 in c:\\users\\karthikraj\\anaconda3\\lib\\site-packages (from tensorflow-intel==2.18.0->tensorflow) (2.32.3)\n",
      "Requirement already satisfied: setuptools in c:\\users\\karthikraj\\anaconda3\\lib\\site-packages (from tensorflow-intel==2.18.0->tensorflow) (75.6.0)\n",
      "Requirement already satisfied: six>=1.12.0 in c:\\users\\karthikraj\\anaconda3\\lib\\site-packages (from tensorflow-intel==2.18.0->tensorflow) (1.16.0)\n",
      "Requirement already satisfied: termcolor>=1.1.0 in c:\\users\\karthikraj\\anaconda3\\lib\\site-packages (from tensorflow-intel==2.18.0->tensorflow) (2.5.0)\n",
      "Requirement already satisfied: typing-extensions>=3.6.6 in c:\\users\\karthikraj\\anaconda3\\lib\\site-packages (from tensorflow-intel==2.18.0->tensorflow) (4.11.0)\n",
      "Requirement already satisfied: wrapt>=1.11.0 in c:\\users\\karthikraj\\anaconda3\\lib\\site-packages (from tensorflow-intel==2.18.0->tensorflow) (1.14.1)\n",
      "Requirement already satisfied: grpcio<2.0,>=1.24.3 in c:\\users\\karthikraj\\anaconda3\\lib\\site-packages (from tensorflow-intel==2.18.0->tensorflow) (1.69.0)\n",
      "Requirement already satisfied: tensorboard<2.19,>=2.18 in c:\\users\\karthikraj\\anaconda3\\lib\\site-packages (from tensorflow-intel==2.18.0->tensorflow) (2.18.0)\n",
      "Requirement already satisfied: keras>=3.5.0 in c:\\users\\karthikraj\\anaconda3\\lib\\site-packages (from tensorflow-intel==2.18.0->tensorflow) (3.8.0)\n",
      "Requirement already satisfied: numpy<2.1.0,>=1.26.0 in c:\\users\\karthikraj\\anaconda3\\lib\\site-packages (from tensorflow-intel==2.18.0->tensorflow) (1.26.4)\n",
      "Requirement already satisfied: h5py>=3.11.0 in c:\\users\\karthikraj\\anaconda3\\lib\\site-packages (from tensorflow-intel==2.18.0->tensorflow) (3.11.0)\n",
      "Requirement already satisfied: ml-dtypes<0.5.0,>=0.4.0 in c:\\users\\karthikraj\\anaconda3\\lib\\site-packages (from tensorflow-intel==2.18.0->tensorflow) (0.4.1)\n",
      "Requirement already satisfied: wheel<1.0,>=0.23.0 in c:\\users\\karthikraj\\anaconda3\\lib\\site-packages (from astunparse>=1.6.0->tensorflow-intel==2.18.0->tensorflow) (0.45.1)\n",
      "Requirement already satisfied: rich in c:\\users\\karthikraj\\anaconda3\\lib\\site-packages (from keras>=3.5.0->tensorflow-intel==2.18.0->tensorflow) (13.7.1)\n",
      "Requirement already satisfied: namex in c:\\users\\karthikraj\\anaconda3\\lib\\site-packages (from keras>=3.5.0->tensorflow-intel==2.18.0->tensorflow) (0.0.8)\n",
      "Requirement already satisfied: optree in c:\\users\\karthikraj\\anaconda3\\lib\\site-packages (from keras>=3.5.0->tensorflow-intel==2.18.0->tensorflow) (0.13.1)\n",
      "Requirement already satisfied: charset-normalizer<4,>=2 in c:\\users\\karthikraj\\anaconda3\\lib\\site-packages (from requests<3,>=2.21.0->tensorflow-intel==2.18.0->tensorflow) (3.3.2)\n",
      "Requirement already satisfied: idna<4,>=2.5 in c:\\users\\karthikraj\\anaconda3\\lib\\site-packages (from requests<3,>=2.21.0->tensorflow-intel==2.18.0->tensorflow) (3.7)\n",
      "Requirement already satisfied: urllib3<3,>=1.21.1 in c:\\users\\karthikraj\\anaconda3\\lib\\site-packages (from requests<3,>=2.21.0->tensorflow-intel==2.18.0->tensorflow) (2.2.3)\n",
      "Requirement already satisfied: certifi>=2017.4.17 in c:\\users\\karthikraj\\anaconda3\\lib\\site-packages (from requests<3,>=2.21.0->tensorflow-intel==2.18.0->tensorflow) (2024.12.14)\n",
      "Requirement already satisfied: markdown>=2.6.8 in c:\\users\\karthikraj\\anaconda3\\lib\\site-packages (from tensorboard<2.19,>=2.18->tensorflow-intel==2.18.0->tensorflow) (3.4.1)\n",
      "Requirement already satisfied: tensorboard-data-server<0.8.0,>=0.7.0 in c:\\users\\karthikraj\\anaconda3\\lib\\site-packages (from tensorboard<2.19,>=2.18->tensorflow-intel==2.18.0->tensorflow) (0.7.2)\n",
      "Requirement already satisfied: werkzeug>=1.0.1 in c:\\users\\karthikraj\\anaconda3\\lib\\site-packages (from tensorboard<2.19,>=2.18->tensorflow-intel==2.18.0->tensorflow) (3.0.3)\n",
      "Requirement already satisfied: MarkupSafe>=2.1.1 in c:\\users\\karthikraj\\anaconda3\\lib\\site-packages (from werkzeug>=1.0.1->tensorboard<2.19,>=2.18->tensorflow-intel==2.18.0->tensorflow) (2.1.3)\n",
      "Requirement already satisfied: markdown-it-py>=2.2.0 in c:\\users\\karthikraj\\anaconda3\\lib\\site-packages (from rich->keras>=3.5.0->tensorflow-intel==2.18.0->tensorflow) (2.2.0)\n",
      "Requirement already satisfied: pygments<3.0.0,>=2.13.0 in c:\\users\\karthikraj\\anaconda3\\lib\\site-packages (from rich->keras>=3.5.0->tensorflow-intel==2.18.0->tensorflow) (2.15.1)\n",
      "Requirement already satisfied: mdurl~=0.1 in c:\\users\\karthikraj\\anaconda3\\lib\\site-packages (from markdown-it-py>=2.2.0->rich->keras>=3.5.0->tensorflow-intel==2.18.0->tensorflow) (0.1.0)\n"
     ]
    }
   ],
   "source": [
    "!pip install tensorflow"
   ]
  },
  {
   "cell_type": "code",
   "execution_count": 23,
   "id": "867cf0a9-4bff-43f6-a373-79326ceb4cbe",
   "metadata": {},
   "outputs": [],
   "source": [
    "import pandas as pd\n",
    "import numpy as np\n",
    "from sklearn.preprocessing import LabelEncoder, MinMaxScaler\n",
    "from sklearn.feature_extraction.text import TfidfVectorizer\n",
    "import tensorflow as tf\n",
    "from tensorflow.keras import layers, models\n",
    "from sklearn.metrics.pairwise import cosine_similarity"
   ]
  },
  {
   "cell_type": "code",
   "execution_count": 83,
   "id": "5221ae62-129c-45dd-ae86-7236177d22f0",
   "metadata": {},
   "outputs": [],
   "source": [
    "df = pd.read_csv(\"sampled_70000_rows.csv\")\n",
    "df.fillna('', inplace=True)\n"
   ]
  },
  {
   "cell_type": "code",
   "execution_count": 85,
   "id": "d8a0b4ce-6502-47fa-8edd-ebd15f3afce5",
   "metadata": {},
   "outputs": [],
   "source": [
    "le_category = LabelEncoder()\n",
    "df['category_encoded'] = le_category.fit_transform(df['categoryName'])\n",
    "\n",
    "scaler = MinMaxScaler()\n",
    "df[['stars', 'reviews', 'price', 'listPrice', 'boughtInLastMonth']] = scaler.fit_transform(\n",
    "    df[['stars', 'reviews', 'price', 'listPrice', 'boughtInLastMonth']]\n",
    ")"
   ]
  },
  {
   "cell_type": "code",
   "execution_count": 87,
   "id": "47677d27-bf5d-44c2-9fc6-1e8a966c318f",
   "metadata": {},
   "outputs": [],
   "source": [
    "tfidf = TfidfVectorizer(max_features=100)\n",
    "tfidf_matrix = tfidf.fit_transform(df['title']).toarray()\n"
   ]
  },
  {
   "cell_type": "code",
   "execution_count": 88,
   "id": "1df75fd3-3370-4797-813a-66a89994941b",
   "metadata": {},
   "outputs": [],
   "source": [
    "features = np.concatenate([\n",
    "    tfidf_matrix,\n",
    "    df[['category_encoded', 'stars', 'reviews', 'price', 'listPrice', 'boughtInLastMonth']].values\n",
    "], axis=1)"
   ]
  },
  {
   "cell_type": "code",
   "execution_count": 91,
   "id": "cef2cf94-0b71-4698-9a96-15eb01cb907b",
   "metadata": {},
   "outputs": [],
   "source": [
    "input_dim = features.shape[1]\n",
    "model = models.Sequential([\n",
    "    layers.Input(shape=(input_dim,)),\n",
    "    layers.Dense(64, activation='relu'),\n",
    "    layers.Dense(32, activation='relu'),\n",
    "    layers.Dense(16, activation='relu'),\n",
    "    layers.Dense(8, activation=None, name='embedding')  # 8-dim embedding\n",
    "])\n",
    "model.compile(optimizer='adam', loss='mse')"
   ]
  },
  {
   "cell_type": "code",
   "execution_count": 93,
   "id": "8d5e6eb8-6d84-4379-bac4-1d6f4c9e24e6",
   "metadata": {},
   "outputs": [],
   "source": [
    "input_layer = layers.Input(shape=(input_dim,))\n",
    "encoded = layers.Dense(64, activation='relu')(input_layer)\n",
    "encoded = layers.Dense(32, activation='relu')(encoded)\n",
    "encoded = layers.Dense(16, activation='relu')(encoded)\n",
    "embedding = layers.Dense(8, activation=None, name='embedding')(encoded)"
   ]
  },
  {
   "cell_type": "code",
   "execution_count": 95,
   "id": "c4a34503-c777-46f9-96b6-e51f8412b575",
   "metadata": {},
   "outputs": [],
   "source": [
    "decoded = layers.Dense(16, activation='relu')(embedding)\n",
    "decoded = layers.Dense(32, activation='relu')(decoded)\n",
    "decoded = layers.Dense(64, activation='relu')(decoded)\n",
    "output_layer = layers.Dense(input_dim, activation=None)(decoded)"
   ]
  },
  {
   "cell_type": "code",
   "execution_count": 97,
   "id": "a576d1b7-b076-4405-8f40-ad5aef0cb3e0",
   "metadata": {},
   "outputs": [],
   "source": [
    "from tensorflow.keras import layers, models\n",
    "from tensorflow.keras.models import Model\n"
   ]
  },
  {
   "cell_type": "code",
   "execution_count": 99,
   "id": "afb1086d-cd40-450e-b6d9-04391cafa301",
   "metadata": {},
   "outputs": [],
   "source": [
    "autoencoder = Model(inputs=input_layer, outputs=output_layer)\n",
    "autoencoder.compile(optimizer='adam', loss='mse')"
   ]
  },
  {
   "cell_type": "code",
   "execution_count": 101,
   "id": "1173200d-39f4-4441-a6d9-034b1c91444a",
   "metadata": {},
   "outputs": [
    {
     "name": "stdout",
     "output_type": "stream",
     "text": [
      "Epoch 1/50\n",
      "\u001b[1m8750/8750\u001b[0m \u001b[32m━━━━━━━━━━━━━━━━━━━━\u001b[0m\u001b[37m\u001b[0m \u001b[1m23s\u001b[0m 2ms/step - loss: 6.3825\n",
      "Epoch 2/50\n",
      "\u001b[1m8750/8750\u001b[0m \u001b[32m━━━━━━━━━━━━━━━━━━━━\u001b[0m\u001b[37m\u001b[0m \u001b[1m19s\u001b[0m 2ms/step - loss: 0.0207\n",
      "Epoch 3/50\n",
      "\u001b[1m8750/8750\u001b[0m \u001b[32m━━━━━━━━━━━━━━━━━━━━\u001b[0m\u001b[37m\u001b[0m \u001b[1m17s\u001b[0m 2ms/step - loss: 0.0168\n",
      "Epoch 4/50\n",
      "\u001b[1m8750/8750\u001b[0m \u001b[32m━━━━━━━━━━━━━━━━━━━━\u001b[0m\u001b[37m\u001b[0m \u001b[1m20s\u001b[0m 2ms/step - loss: 0.0181\n",
      "Epoch 5/50\n",
      "\u001b[1m8750/8750\u001b[0m \u001b[32m━━━━━━━━━━━━━━━━━━━━\u001b[0m\u001b[37m\u001b[0m \u001b[1m21s\u001b[0m 2ms/step - loss: 0.0157\n",
      "Epoch 6/50\n",
      "\u001b[1m8750/8750\u001b[0m \u001b[32m━━━━━━━━━━━━━━━━━━━━\u001b[0m\u001b[37m\u001b[0m \u001b[1m17s\u001b[0m 2ms/step - loss: 0.0179\n",
      "Epoch 7/50\n",
      "\u001b[1m8750/8750\u001b[0m \u001b[32m━━━━━━━━━━━━━━━━━━━━\u001b[0m\u001b[37m\u001b[0m \u001b[1m16s\u001b[0m 2ms/step - loss: 0.0148\n",
      "Epoch 8/50\n",
      "\u001b[1m8750/8750\u001b[0m \u001b[32m━━━━━━━━━━━━━━━━━━━━\u001b[0m\u001b[37m\u001b[0m \u001b[1m20s\u001b[0m 2ms/step - loss: 0.0123\n",
      "Epoch 9/50\n",
      "\u001b[1m8750/8750\u001b[0m \u001b[32m━━━━━━━━━━━━━━━━━━━━\u001b[0m\u001b[37m\u001b[0m \u001b[1m19s\u001b[0m 2ms/step - loss: 0.0137\n",
      "Epoch 10/50\n",
      "\u001b[1m8750/8750\u001b[0m \u001b[32m━━━━━━━━━━━━━━━━━━━━\u001b[0m\u001b[37m\u001b[0m \u001b[1m22s\u001b[0m 2ms/step - loss: 0.0128\n",
      "Epoch 11/50\n",
      "\u001b[1m8750/8750\u001b[0m \u001b[32m━━━━━━━━━━━━━━━━━━━━\u001b[0m\u001b[37m\u001b[0m \u001b[1m30s\u001b[0m 3ms/step - loss: 0.0133\n",
      "Epoch 12/50\n",
      "\u001b[1m8750/8750\u001b[0m \u001b[32m━━━━━━━━━━━━━━━━━━━━\u001b[0m\u001b[37m\u001b[0m \u001b[1m20s\u001b[0m 2ms/step - loss: 0.0125\n",
      "Epoch 13/50\n",
      "\u001b[1m8750/8750\u001b[0m \u001b[32m━━━━━━━━━━━━━━━━━━━━\u001b[0m\u001b[37m\u001b[0m \u001b[1m19s\u001b[0m 2ms/step - loss: 0.0117\n",
      "Epoch 14/50\n",
      "\u001b[1m8750/8750\u001b[0m \u001b[32m━━━━━━━━━━━━━━━━━━━━\u001b[0m\u001b[37m\u001b[0m \u001b[1m21s\u001b[0m 2ms/step - loss: 0.0126\n",
      "Epoch 15/50\n",
      "\u001b[1m8750/8750\u001b[0m \u001b[32m━━━━━━━━━━━━━━━━━━━━\u001b[0m\u001b[37m\u001b[0m \u001b[1m20s\u001b[0m 2ms/step - loss: 0.0113\n",
      "Epoch 16/50\n",
      "\u001b[1m8750/8750\u001b[0m \u001b[32m━━━━━━━━━━━━━━━━━━━━\u001b[0m\u001b[37m\u001b[0m \u001b[1m18s\u001b[0m 2ms/step - loss: 0.0121\n",
      "Epoch 17/50\n",
      "\u001b[1m8750/8750\u001b[0m \u001b[32m━━━━━━━━━━━━━━━━━━━━\u001b[0m\u001b[37m\u001b[0m \u001b[1m20s\u001b[0m 2ms/step - loss: 0.0108\n",
      "Epoch 18/50\n",
      "\u001b[1m8750/8750\u001b[0m \u001b[32m━━━━━━━━━━━━━━━━━━━━\u001b[0m\u001b[37m\u001b[0m \u001b[1m22s\u001b[0m 2ms/step - loss: 0.0118\n",
      "Epoch 19/50\n",
      "\u001b[1m8750/8750\u001b[0m \u001b[32m━━━━━━━━━━━━━━━━━━━━\u001b[0m\u001b[37m\u001b[0m \u001b[1m22s\u001b[0m 2ms/step - loss: 0.0105\n",
      "Epoch 20/50\n",
      "\u001b[1m8750/8750\u001b[0m \u001b[32m━━━━━━━━━━━━━━━━━━━━\u001b[0m\u001b[37m\u001b[0m \u001b[1m22s\u001b[0m 2ms/step - loss: 0.0107\n",
      "Epoch 21/50\n",
      "\u001b[1m8750/8750\u001b[0m \u001b[32m━━━━━━━━━━━━━━━━━━━━\u001b[0m\u001b[37m\u001b[0m \u001b[1m21s\u001b[0m 2ms/step - loss: 0.0104\n",
      "Epoch 22/50\n",
      "\u001b[1m8750/8750\u001b[0m \u001b[32m━━━━━━━━━━━━━━━━━━━━\u001b[0m\u001b[37m\u001b[0m \u001b[1m19s\u001b[0m 2ms/step - loss: 0.0107\n",
      "Epoch 23/50\n",
      "\u001b[1m8750/8750\u001b[0m \u001b[32m━━━━━━━━━━━━━━━━━━━━\u001b[0m\u001b[37m\u001b[0m \u001b[1m19s\u001b[0m 2ms/step - loss: 0.0102\n",
      "Epoch 24/50\n",
      "\u001b[1m8750/8750\u001b[0m \u001b[32m━━━━━━━━━━━━━━━━━━━━\u001b[0m\u001b[37m\u001b[0m \u001b[1m20s\u001b[0m 2ms/step - loss: 0.0096\n",
      "Epoch 25/50\n",
      "\u001b[1m8750/8750\u001b[0m \u001b[32m━━━━━━━━━━━━━━━━━━━━\u001b[0m\u001b[37m\u001b[0m \u001b[1m17s\u001b[0m 2ms/step - loss: 0.0098\n",
      "Epoch 26/50\n",
      "\u001b[1m8750/8750\u001b[0m \u001b[32m━━━━━━━━━━━━━━━━━━━━\u001b[0m\u001b[37m\u001b[0m \u001b[1m17s\u001b[0m 2ms/step - loss: 0.0098\n",
      "Epoch 27/50\n",
      "\u001b[1m8750/8750\u001b[0m \u001b[32m━━━━━━━━━━━━━━━━━━━━\u001b[0m\u001b[37m\u001b[0m \u001b[1m22s\u001b[0m 3ms/step - loss: 0.0099\n",
      "Epoch 28/50\n",
      "\u001b[1m8750/8750\u001b[0m \u001b[32m━━━━━━━━━━━━━━━━━━━━\u001b[0m\u001b[37m\u001b[0m \u001b[1m18s\u001b[0m 2ms/step - loss: 0.0100\n",
      "Epoch 29/50\n",
      "\u001b[1m8750/8750\u001b[0m \u001b[32m━━━━━━━━━━━━━━━━━━━━\u001b[0m\u001b[37m\u001b[0m \u001b[1m21s\u001b[0m 2ms/step - loss: 0.0095\n",
      "Epoch 30/50\n",
      "\u001b[1m8750/8750\u001b[0m \u001b[32m━━━━━━━━━━━━━━━━━━━━\u001b[0m\u001b[37m\u001b[0m \u001b[1m20s\u001b[0m 2ms/step - loss: 0.0100\n",
      "Epoch 31/50\n",
      "\u001b[1m8750/8750\u001b[0m \u001b[32m━━━━━━━━━━━━━━━━━━━━\u001b[0m\u001b[37m\u001b[0m \u001b[1m18s\u001b[0m 2ms/step - loss: 0.0117\n",
      "Epoch 32/50\n",
      "\u001b[1m8750/8750\u001b[0m \u001b[32m━━━━━━━━━━━━━━━━━━━━\u001b[0m\u001b[37m\u001b[0m \u001b[1m22s\u001b[0m 3ms/step - loss: 0.0093\n",
      "Epoch 33/50\n",
      "\u001b[1m8750/8750\u001b[0m \u001b[32m━━━━━━━━━━━━━━━━━━━━\u001b[0m\u001b[37m\u001b[0m \u001b[1m22s\u001b[0m 2ms/step - loss: 0.0090\n",
      "Epoch 34/50\n",
      "\u001b[1m8750/8750\u001b[0m \u001b[32m━━━━━━━━━━━━━━━━━━━━\u001b[0m\u001b[37m\u001b[0m \u001b[1m23s\u001b[0m 3ms/step - loss: 0.0091\n",
      "Epoch 35/50\n",
      "\u001b[1m8750/8750\u001b[0m \u001b[32m━━━━━━━━━━━━━━━━━━━━\u001b[0m\u001b[37m\u001b[0m \u001b[1m20s\u001b[0m 2ms/step - loss: 0.0111\n",
      "Epoch 36/50\n",
      "\u001b[1m8750/8750\u001b[0m \u001b[32m━━━━━━━━━━━━━━━━━━━━\u001b[0m\u001b[37m\u001b[0m \u001b[1m23s\u001b[0m 3ms/step - loss: 0.0095\n",
      "Epoch 37/50\n",
      "\u001b[1m8750/8750\u001b[0m \u001b[32m━━━━━━━━━━━━━━━━━━━━\u001b[0m\u001b[37m\u001b[0m \u001b[1m19s\u001b[0m 2ms/step - loss: 0.0097\n",
      "Epoch 38/50\n",
      "\u001b[1m8750/8750\u001b[0m \u001b[32m━━━━━━━━━━━━━━━━━━━━\u001b[0m\u001b[37m\u001b[0m \u001b[1m20s\u001b[0m 2ms/step - loss: 0.0093\n",
      "Epoch 39/50\n",
      "\u001b[1m8750/8750\u001b[0m \u001b[32m━━━━━━━━━━━━━━━━━━━━\u001b[0m\u001b[37m\u001b[0m \u001b[1m18s\u001b[0m 2ms/step - loss: 0.0093\n",
      "Epoch 40/50\n",
      "\u001b[1m8750/8750\u001b[0m \u001b[32m━━━━━━━━━━━━━━━━━━━━\u001b[0m\u001b[37m\u001b[0m \u001b[1m21s\u001b[0m 2ms/step - loss: 0.0087\n",
      "Epoch 41/50\n",
      "\u001b[1m8750/8750\u001b[0m \u001b[32m━━━━━━━━━━━━━━━━━━━━\u001b[0m\u001b[37m\u001b[0m \u001b[1m21s\u001b[0m 2ms/step - loss: 0.0092\n",
      "Epoch 42/50\n",
      "\u001b[1m8750/8750\u001b[0m \u001b[32m━━━━━━━━━━━━━━━━━━━━\u001b[0m\u001b[37m\u001b[0m \u001b[1m21s\u001b[0m 2ms/step - loss: 0.0093\n",
      "Epoch 43/50\n",
      "\u001b[1m8750/8750\u001b[0m \u001b[32m━━━━━━━━━━━━━━━━━━━━\u001b[0m\u001b[37m\u001b[0m \u001b[1m21s\u001b[0m 2ms/step - loss: 0.0093\n",
      "Epoch 44/50\n",
      "\u001b[1m8750/8750\u001b[0m \u001b[32m━━━━━━━━━━━━━━━━━━━━\u001b[0m\u001b[37m\u001b[0m \u001b[1m21s\u001b[0m 2ms/step - loss: 0.0090\n",
      "Epoch 45/50\n",
      "\u001b[1m8750/8750\u001b[0m \u001b[32m━━━━━━━━━━━━━━━━━━━━\u001b[0m\u001b[37m\u001b[0m \u001b[1m20s\u001b[0m 2ms/step - loss: 0.0094\n",
      "Epoch 46/50\n",
      "\u001b[1m8750/8750\u001b[0m \u001b[32m━━━━━━━━━━━━━━━━━━━━\u001b[0m\u001b[37m\u001b[0m \u001b[1m18s\u001b[0m 2ms/step - loss: 0.0086\n",
      "Epoch 47/50\n",
      "\u001b[1m8750/8750\u001b[0m \u001b[32m━━━━━━━━━━━━━━━━━━━━\u001b[0m\u001b[37m\u001b[0m \u001b[1m20s\u001b[0m 2ms/step - loss: 0.0089\n",
      "Epoch 48/50\n",
      "\u001b[1m8750/8750\u001b[0m \u001b[32m━━━━━━━━━━━━━━━━━━━━\u001b[0m\u001b[37m\u001b[0m \u001b[1m19s\u001b[0m 2ms/step - loss: 0.0089\n",
      "Epoch 49/50\n",
      "\u001b[1m8750/8750\u001b[0m \u001b[32m━━━━━━━━━━━━━━━━━━━━\u001b[0m\u001b[37m\u001b[0m \u001b[1m19s\u001b[0m 2ms/step - loss: 0.0083\n",
      "Epoch 50/50\n",
      "\u001b[1m8750/8750\u001b[0m \u001b[32m━━━━━━━━━━━━━━━━━━━━\u001b[0m\u001b[37m\u001b[0m \u001b[1m19s\u001b[0m 2ms/step - loss: 0.0090\n"
     ]
    },
    {
     "data": {
      "text/plain": [
       "<keras.src.callbacks.history.History at 0x27d31fd7170>"
      ]
     },
     "execution_count": 101,
     "metadata": {},
     "output_type": "execute_result"
    }
   ],
   "source": [
    "autoencoder.fit(features, features, epochs=50, batch_size=8, verbose=1)\n"
   ]
  },
  {
   "cell_type": "code",
   "execution_count": 103,
   "id": "31553f25-b259-4be1-8789-d968167558d0",
   "metadata": {},
   "outputs": [
    {
     "name": "stdout",
     "output_type": "stream",
     "text": [
      "\u001b[1m2188/2188\u001b[0m \u001b[32m━━━━━━━━━━━━━━━━━━━━\u001b[0m\u001b[37m\u001b[0m \u001b[1m2s\u001b[0m 1ms/step\n"
     ]
    }
   ],
   "source": [
    "encoder_model = Model(inputs=input_layer, outputs=embedding)\n",
    "product_embeddings = encoder_model.predict(features)"
   ]
  },
  {
   "cell_type": "code",
   "execution_count": 105,
   "id": "0cc863eb-f3fc-4c22-b2f3-ef533e01da5c",
   "metadata": {},
   "outputs": [
    {
     "name": "stdout",
     "output_type": "stream",
     "text": [
      "✅ Fixed! Embeddings extracted and saved.\n"
     ]
    }
   ],
   "source": [
    "np.save(\"product_embeddings.npy\", product_embeddings)\n",
    "df.to_csv(\"products_with_embeddings.csv\", index=False)\n",
    "\n",
    "print(\"✅ Fixed! Embeddings extracted and saved.\")"
   ]
  },
  {
   "cell_type": "code",
   "execution_count": null,
   "id": "9ca8f30e-f205-4598-ab81-c58bb0d21f87",
   "metadata": {},
   "outputs": [],
   "source": []
  }
 ],
 "metadata": {
  "kernelspec": {
   "display_name": "Python [conda env:base] *",
   "language": "python",
   "name": "conda-base-py"
  },
  "language_info": {
   "codemirror_mode": {
    "name": "ipython",
    "version": 3
   },
   "file_extension": ".py",
   "mimetype": "text/x-python",
   "name": "python",
   "nbconvert_exporter": "python",
   "pygments_lexer": "ipython3",
   "version": "3.12.7"
  }
 },
 "nbformat": 4,
 "nbformat_minor": 5
}
